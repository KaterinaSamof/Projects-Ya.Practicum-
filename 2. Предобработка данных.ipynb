{
 "cells": [
  {
   "cell_type": "markdown",
   "id": "04055e6b",
   "metadata": {},
   "source": [
    "<div style=\"border:solid green 2px; padding: 20px\">\n",
    "    \n",
    "<b>Екатерина, привет!</b> Мы рады тебя видеть на территории код-ревьюеров. Ты проделала большую работу над проектом, но давай познакомимся и сделаем его еще лучше! У нас тут своя атмосфера и несколько правил:\n",
    "\n",
    "\n",
    "1. Меня зовут Александр Матвеевский. Я работаю код-ревьюером, моя основная цель — не указать на совершенные тобою ошибки, а поделиться своим опытом и помочь тебе стать аналитиком данных.\n",
    "2. Общаемся на ты.\n",
    "3. Если хочешь написать, спросить - не нужно стесняться. Только выбери свой цвет для комментария.  \n",
    "4. Это учебный проект, тут можно не бояться сделать ошибку.  \n",
    "5. У тебя неограниченное количество попыток для сдачи проекта.  \n",
    "6. Let's Go!\n",
    "\n",
    "---\n",
    "\n",
    "Я буду красить комментарии цветом, пожалуйста, не удаляй их:\n",
    "\n",
    "<div class=\"alert alert-block alert-danger\">✍\n",
    "    \n",
    "\n",
    "__Комментарий от ревьюера №1__\n",
    "\n",
    "Такой комментарий нужно исправить обязательно, он критически влияет на удачное выполнение проекта.\n",
    "</div>\n",
    "    \n",
    "---\n",
    "\n",
    "<div class=\"alert alert-block alert-warning\">📝\n",
    "    \n",
    "\n",
    "__Комментарий от ревьюера №1__\n",
    "\n",
    "\n",
    "Такой комментарий является рекомендацией или советом. Можешь использовать их на своё усмотрение.\n",
    "</div>\n",
    "\n",
    "---\n",
    "\n",
    "<div class=\"alert alert-block alert-success\">✔️\n",
    "    \n",
    "\n",
    "__Комментарий от ревьюера №1__\n",
    "\n",
    "Такой комментарий  говорит о том, что было сделано что-то качественное и правильное =)\n",
    "</div>\n",
    "    \n",
    "---\n",
    "    \n",
    "Предлагаю работать над проектом в диалоге: если ты что-то меняешь в проекте или отвечаешь на мои комментарии — пиши об этом. Мне будет легче отследить изменения, если ты выделишь свои комментарии:   \n",
    "    \n",
    "<div class=\"alert alert-info\"> <b>Комментарии студента:</b> Например, вот так.</div>\n",
    "    \n",
    "Всё это поможет выполнить повторную проверку твоего проекта оперативнее. Если будут какие-нибудь вопросы по моим комментариям, пиши, будем разбираться вместе :)    \n",
    "    \n",
    "---"
   ]
  },
  {
   "cell_type": "markdown",
   "id": "33c2d0b7",
   "metadata": {
    "deletable": false,
    "editable": false,
    "id": "c81daeeb"
   },
   "source": [
    "# Исследование надежности заемщиков\n"
   ]
  },
  {
   "cell_type": "markdown",
   "id": "0ae32e86",
   "metadata": {
    "deletable": false,
    "editable": false,
    "id": "827c20bf"
   },
   "source": [
    "Во второй части проекта вы выполните шаги 3 и 4. Их вручную проверит ревьюер.\n",
    "Чтобы вам не пришлось писать код заново для шагов 1 и 2, мы добавили авторские решения в ячейки с кодом. \n",
    "\n"
   ]
  },
  {
   "cell_type": "markdown",
   "id": "627565ae",
   "metadata": {
    "deletable": false,
    "editable": false,
    "id": "744d7639"
   },
   "source": [
    "## Откройте таблицу и изучите общую информацию о данных"
   ]
  },
  {
   "cell_type": "markdown",
   "id": "1a95b4c5",
   "metadata": {
    "deletable": false,
    "editable": false,
    "id": "e7a14c31"
   },
   "source": [
    "**Задание 1. Импортируйте библиотеку pandas. Считайте данные из csv-файла в датафрейм и сохраните в переменную `data`. Путь к файлу:**\n",
    "\n",
    "`/datasets/data.csv`"
   ]
  },
  {
   "cell_type": "code",
   "execution_count": 1,
   "id": "decf5661",
   "metadata": {
    "deletable": false,
    "id": "7bcf75c9"
   },
   "outputs": [],
   "source": [
    "import pandas as pd\n",
    "\n",
    "try:\n",
    "    data = pd.read_csv('/datasets/data.csv')\n",
    "except:\n",
    "    data = pd.read_csv('https://code.s3.yandex.net/datasets/data.csv')"
   ]
  },
  {
   "cell_type": "markdown",
   "id": "67775b1f",
   "metadata": {
    "deletable": false,
    "editable": false,
    "id": "b8038fe3"
   },
   "source": [
    "**Задание 2. Выведите первые 20 строчек датафрейма `data` на экран.**"
   ]
  },
  {
   "cell_type": "code",
   "execution_count": 2,
   "id": "e5d1ec01",
   "metadata": {
    "deletable": false,
    "id": "2a7cab99",
    "outputId": "1a8f3ef2-d323-4ec2-ddf7-89670b5944c4"
   },
   "outputs": [
    {
     "data": {
      "text/html": [
       "<div>\n",
       "<style scoped>\n",
       "    .dataframe tbody tr th:only-of-type {\n",
       "        vertical-align: middle;\n",
       "    }\n",
       "\n",
       "    .dataframe tbody tr th {\n",
       "        vertical-align: top;\n",
       "    }\n",
       "\n",
       "    .dataframe thead th {\n",
       "        text-align: right;\n",
       "    }\n",
       "</style>\n",
       "<table border=\"1\" class=\"dataframe\">\n",
       "  <thead>\n",
       "    <tr style=\"text-align: right;\">\n",
       "      <th></th>\n",
       "      <th>children</th>\n",
       "      <th>days_employed</th>\n",
       "      <th>dob_years</th>\n",
       "      <th>education</th>\n",
       "      <th>education_id</th>\n",
       "      <th>family_status</th>\n",
       "      <th>family_status_id</th>\n",
       "      <th>gender</th>\n",
       "      <th>income_type</th>\n",
       "      <th>debt</th>\n",
       "      <th>total_income</th>\n",
       "      <th>purpose</th>\n",
       "    </tr>\n",
       "  </thead>\n",
       "  <tbody>\n",
       "    <tr>\n",
       "      <th>0</th>\n",
       "      <td>1</td>\n",
       "      <td>-8437.673028</td>\n",
       "      <td>42</td>\n",
       "      <td>высшее</td>\n",
       "      <td>0</td>\n",
       "      <td>женат / замужем</td>\n",
       "      <td>0</td>\n",
       "      <td>F</td>\n",
       "      <td>сотрудник</td>\n",
       "      <td>0</td>\n",
       "      <td>253875.639453</td>\n",
       "      <td>покупка жилья</td>\n",
       "    </tr>\n",
       "    <tr>\n",
       "      <th>1</th>\n",
       "      <td>1</td>\n",
       "      <td>-4024.803754</td>\n",
       "      <td>36</td>\n",
       "      <td>среднее</td>\n",
       "      <td>1</td>\n",
       "      <td>женат / замужем</td>\n",
       "      <td>0</td>\n",
       "      <td>F</td>\n",
       "      <td>сотрудник</td>\n",
       "      <td>0</td>\n",
       "      <td>112080.014102</td>\n",
       "      <td>приобретение автомобиля</td>\n",
       "    </tr>\n",
       "    <tr>\n",
       "      <th>2</th>\n",
       "      <td>0</td>\n",
       "      <td>-5623.422610</td>\n",
       "      <td>33</td>\n",
       "      <td>Среднее</td>\n",
       "      <td>1</td>\n",
       "      <td>женат / замужем</td>\n",
       "      <td>0</td>\n",
       "      <td>M</td>\n",
       "      <td>сотрудник</td>\n",
       "      <td>0</td>\n",
       "      <td>145885.952297</td>\n",
       "      <td>покупка жилья</td>\n",
       "    </tr>\n",
       "    <tr>\n",
       "      <th>3</th>\n",
       "      <td>3</td>\n",
       "      <td>-4124.747207</td>\n",
       "      <td>32</td>\n",
       "      <td>среднее</td>\n",
       "      <td>1</td>\n",
       "      <td>женат / замужем</td>\n",
       "      <td>0</td>\n",
       "      <td>M</td>\n",
       "      <td>сотрудник</td>\n",
       "      <td>0</td>\n",
       "      <td>267628.550329</td>\n",
       "      <td>дополнительное образование</td>\n",
       "    </tr>\n",
       "    <tr>\n",
       "      <th>4</th>\n",
       "      <td>0</td>\n",
       "      <td>340266.072047</td>\n",
       "      <td>53</td>\n",
       "      <td>среднее</td>\n",
       "      <td>1</td>\n",
       "      <td>гражданский брак</td>\n",
       "      <td>1</td>\n",
       "      <td>F</td>\n",
       "      <td>пенсионер</td>\n",
       "      <td>0</td>\n",
       "      <td>158616.077870</td>\n",
       "      <td>сыграть свадьбу</td>\n",
       "    </tr>\n",
       "    <tr>\n",
       "      <th>5</th>\n",
       "      <td>0</td>\n",
       "      <td>-926.185831</td>\n",
       "      <td>27</td>\n",
       "      <td>высшее</td>\n",
       "      <td>0</td>\n",
       "      <td>гражданский брак</td>\n",
       "      <td>1</td>\n",
       "      <td>M</td>\n",
       "      <td>компаньон</td>\n",
       "      <td>0</td>\n",
       "      <td>255763.565419</td>\n",
       "      <td>покупка жилья</td>\n",
       "    </tr>\n",
       "    <tr>\n",
       "      <th>6</th>\n",
       "      <td>0</td>\n",
       "      <td>-2879.202052</td>\n",
       "      <td>43</td>\n",
       "      <td>высшее</td>\n",
       "      <td>0</td>\n",
       "      <td>женат / замужем</td>\n",
       "      <td>0</td>\n",
       "      <td>F</td>\n",
       "      <td>компаньон</td>\n",
       "      <td>0</td>\n",
       "      <td>240525.971920</td>\n",
       "      <td>операции с жильем</td>\n",
       "    </tr>\n",
       "    <tr>\n",
       "      <th>7</th>\n",
       "      <td>0</td>\n",
       "      <td>-152.779569</td>\n",
       "      <td>50</td>\n",
       "      <td>СРЕДНЕЕ</td>\n",
       "      <td>1</td>\n",
       "      <td>женат / замужем</td>\n",
       "      <td>0</td>\n",
       "      <td>M</td>\n",
       "      <td>сотрудник</td>\n",
       "      <td>0</td>\n",
       "      <td>135823.934197</td>\n",
       "      <td>образование</td>\n",
       "    </tr>\n",
       "    <tr>\n",
       "      <th>8</th>\n",
       "      <td>2</td>\n",
       "      <td>-6929.865299</td>\n",
       "      <td>35</td>\n",
       "      <td>ВЫСШЕЕ</td>\n",
       "      <td>0</td>\n",
       "      <td>гражданский брак</td>\n",
       "      <td>1</td>\n",
       "      <td>F</td>\n",
       "      <td>сотрудник</td>\n",
       "      <td>0</td>\n",
       "      <td>95856.832424</td>\n",
       "      <td>на проведение свадьбы</td>\n",
       "    </tr>\n",
       "    <tr>\n",
       "      <th>9</th>\n",
       "      <td>0</td>\n",
       "      <td>-2188.756445</td>\n",
       "      <td>41</td>\n",
       "      <td>среднее</td>\n",
       "      <td>1</td>\n",
       "      <td>женат / замужем</td>\n",
       "      <td>0</td>\n",
       "      <td>M</td>\n",
       "      <td>сотрудник</td>\n",
       "      <td>0</td>\n",
       "      <td>144425.938277</td>\n",
       "      <td>покупка жилья для семьи</td>\n",
       "    </tr>\n",
       "    <tr>\n",
       "      <th>10</th>\n",
       "      <td>2</td>\n",
       "      <td>-4171.483647</td>\n",
       "      <td>36</td>\n",
       "      <td>высшее</td>\n",
       "      <td>0</td>\n",
       "      <td>женат / замужем</td>\n",
       "      <td>0</td>\n",
       "      <td>M</td>\n",
       "      <td>компаньон</td>\n",
       "      <td>0</td>\n",
       "      <td>113943.491460</td>\n",
       "      <td>покупка недвижимости</td>\n",
       "    </tr>\n",
       "    <tr>\n",
       "      <th>11</th>\n",
       "      <td>0</td>\n",
       "      <td>-792.701887</td>\n",
       "      <td>40</td>\n",
       "      <td>среднее</td>\n",
       "      <td>1</td>\n",
       "      <td>женат / замужем</td>\n",
       "      <td>0</td>\n",
       "      <td>F</td>\n",
       "      <td>сотрудник</td>\n",
       "      <td>0</td>\n",
       "      <td>77069.234271</td>\n",
       "      <td>покупка коммерческой недвижимости</td>\n",
       "    </tr>\n",
       "    <tr>\n",
       "      <th>12</th>\n",
       "      <td>0</td>\n",
       "      <td>NaN</td>\n",
       "      <td>65</td>\n",
       "      <td>среднее</td>\n",
       "      <td>1</td>\n",
       "      <td>гражданский брак</td>\n",
       "      <td>1</td>\n",
       "      <td>M</td>\n",
       "      <td>пенсионер</td>\n",
       "      <td>0</td>\n",
       "      <td>NaN</td>\n",
       "      <td>сыграть свадьбу</td>\n",
       "    </tr>\n",
       "    <tr>\n",
       "      <th>13</th>\n",
       "      <td>0</td>\n",
       "      <td>-1846.641941</td>\n",
       "      <td>54</td>\n",
       "      <td>неоконченное высшее</td>\n",
       "      <td>2</td>\n",
       "      <td>женат / замужем</td>\n",
       "      <td>0</td>\n",
       "      <td>F</td>\n",
       "      <td>сотрудник</td>\n",
       "      <td>0</td>\n",
       "      <td>130458.228857</td>\n",
       "      <td>приобретение автомобиля</td>\n",
       "    </tr>\n",
       "    <tr>\n",
       "      <th>14</th>\n",
       "      <td>0</td>\n",
       "      <td>-1844.956182</td>\n",
       "      <td>56</td>\n",
       "      <td>высшее</td>\n",
       "      <td>0</td>\n",
       "      <td>гражданский брак</td>\n",
       "      <td>1</td>\n",
       "      <td>F</td>\n",
       "      <td>компаньон</td>\n",
       "      <td>1</td>\n",
       "      <td>165127.911772</td>\n",
       "      <td>покупка жилой недвижимости</td>\n",
       "    </tr>\n",
       "    <tr>\n",
       "      <th>15</th>\n",
       "      <td>1</td>\n",
       "      <td>-972.364419</td>\n",
       "      <td>26</td>\n",
       "      <td>среднее</td>\n",
       "      <td>1</td>\n",
       "      <td>женат / замужем</td>\n",
       "      <td>0</td>\n",
       "      <td>F</td>\n",
       "      <td>сотрудник</td>\n",
       "      <td>0</td>\n",
       "      <td>116820.904450</td>\n",
       "      <td>строительство собственной недвижимости</td>\n",
       "    </tr>\n",
       "    <tr>\n",
       "      <th>16</th>\n",
       "      <td>0</td>\n",
       "      <td>-1719.934226</td>\n",
       "      <td>35</td>\n",
       "      <td>среднее</td>\n",
       "      <td>1</td>\n",
       "      <td>женат / замужем</td>\n",
       "      <td>0</td>\n",
       "      <td>F</td>\n",
       "      <td>сотрудник</td>\n",
       "      <td>0</td>\n",
       "      <td>289202.704229</td>\n",
       "      <td>недвижимость</td>\n",
       "    </tr>\n",
       "    <tr>\n",
       "      <th>17</th>\n",
       "      <td>0</td>\n",
       "      <td>-2369.999720</td>\n",
       "      <td>33</td>\n",
       "      <td>высшее</td>\n",
       "      <td>0</td>\n",
       "      <td>гражданский брак</td>\n",
       "      <td>1</td>\n",
       "      <td>M</td>\n",
       "      <td>сотрудник</td>\n",
       "      <td>0</td>\n",
       "      <td>90410.586745</td>\n",
       "      <td>строительство недвижимости</td>\n",
       "    </tr>\n",
       "    <tr>\n",
       "      <th>18</th>\n",
       "      <td>0</td>\n",
       "      <td>400281.136913</td>\n",
       "      <td>53</td>\n",
       "      <td>среднее</td>\n",
       "      <td>1</td>\n",
       "      <td>вдовец / вдова</td>\n",
       "      <td>2</td>\n",
       "      <td>F</td>\n",
       "      <td>пенсионер</td>\n",
       "      <td>0</td>\n",
       "      <td>56823.777243</td>\n",
       "      <td>на покупку подержанного автомобиля</td>\n",
       "    </tr>\n",
       "    <tr>\n",
       "      <th>19</th>\n",
       "      <td>0</td>\n",
       "      <td>-10038.818549</td>\n",
       "      <td>48</td>\n",
       "      <td>СРЕДНЕЕ</td>\n",
       "      <td>1</td>\n",
       "      <td>в разводе</td>\n",
       "      <td>3</td>\n",
       "      <td>F</td>\n",
       "      <td>сотрудник</td>\n",
       "      <td>0</td>\n",
       "      <td>242831.107982</td>\n",
       "      <td>на покупку своего автомобиля</td>\n",
       "    </tr>\n",
       "  </tbody>\n",
       "</table>\n",
       "</div>"
      ],
      "text/plain": [
       "    children  days_employed  dob_years            education  education_id  \\\n",
       "0          1   -8437.673028         42               высшее             0   \n",
       "1          1   -4024.803754         36              среднее             1   \n",
       "2          0   -5623.422610         33              Среднее             1   \n",
       "3          3   -4124.747207         32              среднее             1   \n",
       "4          0  340266.072047         53              среднее             1   \n",
       "5          0    -926.185831         27               высшее             0   \n",
       "6          0   -2879.202052         43               высшее             0   \n",
       "7          0    -152.779569         50              СРЕДНЕЕ             1   \n",
       "8          2   -6929.865299         35               ВЫСШЕЕ             0   \n",
       "9          0   -2188.756445         41              среднее             1   \n",
       "10         2   -4171.483647         36               высшее             0   \n",
       "11         0    -792.701887         40              среднее             1   \n",
       "12         0            NaN         65              среднее             1   \n",
       "13         0   -1846.641941         54  неоконченное высшее             2   \n",
       "14         0   -1844.956182         56               высшее             0   \n",
       "15         1    -972.364419         26              среднее             1   \n",
       "16         0   -1719.934226         35              среднее             1   \n",
       "17         0   -2369.999720         33               высшее             0   \n",
       "18         0  400281.136913         53              среднее             1   \n",
       "19         0  -10038.818549         48              СРЕДНЕЕ             1   \n",
       "\n",
       "       family_status  family_status_id gender income_type  debt  \\\n",
       "0    женат / замужем                 0      F   сотрудник     0   \n",
       "1    женат / замужем                 0      F   сотрудник     0   \n",
       "2    женат / замужем                 0      M   сотрудник     0   \n",
       "3    женат / замужем                 0      M   сотрудник     0   \n",
       "4   гражданский брак                 1      F   пенсионер     0   \n",
       "5   гражданский брак                 1      M   компаньон     0   \n",
       "6    женат / замужем                 0      F   компаньон     0   \n",
       "7    женат / замужем                 0      M   сотрудник     0   \n",
       "8   гражданский брак                 1      F   сотрудник     0   \n",
       "9    женат / замужем                 0      M   сотрудник     0   \n",
       "10   женат / замужем                 0      M   компаньон     0   \n",
       "11   женат / замужем                 0      F   сотрудник     0   \n",
       "12  гражданский брак                 1      M   пенсионер     0   \n",
       "13   женат / замужем                 0      F   сотрудник     0   \n",
       "14  гражданский брак                 1      F   компаньон     1   \n",
       "15   женат / замужем                 0      F   сотрудник     0   \n",
       "16   женат / замужем                 0      F   сотрудник     0   \n",
       "17  гражданский брак                 1      M   сотрудник     0   \n",
       "18    вдовец / вдова                 2      F   пенсионер     0   \n",
       "19         в разводе                 3      F   сотрудник     0   \n",
       "\n",
       "     total_income                                 purpose  \n",
       "0   253875.639453                           покупка жилья  \n",
       "1   112080.014102                 приобретение автомобиля  \n",
       "2   145885.952297                           покупка жилья  \n",
       "3   267628.550329              дополнительное образование  \n",
       "4   158616.077870                         сыграть свадьбу  \n",
       "5   255763.565419                           покупка жилья  \n",
       "6   240525.971920                       операции с жильем  \n",
       "7   135823.934197                             образование  \n",
       "8    95856.832424                   на проведение свадьбы  \n",
       "9   144425.938277                 покупка жилья для семьи  \n",
       "10  113943.491460                    покупка недвижимости  \n",
       "11   77069.234271       покупка коммерческой недвижимости  \n",
       "12            NaN                         сыграть свадьбу  \n",
       "13  130458.228857                 приобретение автомобиля  \n",
       "14  165127.911772              покупка жилой недвижимости  \n",
       "15  116820.904450  строительство собственной недвижимости  \n",
       "16  289202.704229                            недвижимость  \n",
       "17   90410.586745              строительство недвижимости  \n",
       "18   56823.777243      на покупку подержанного автомобиля  \n",
       "19  242831.107982            на покупку своего автомобиля  "
      ]
     },
     "execution_count": 2,
     "metadata": {},
     "output_type": "execute_result"
    }
   ],
   "source": [
    "data.head(20)"
   ]
  },
  {
   "cell_type": "markdown",
   "id": "773766b8",
   "metadata": {
    "deletable": false,
    "editable": false,
    "id": "1c12e233"
   },
   "source": [
    "**Задание 3. Выведите основную информацию о датафрейме с помощью метода `info()`.**"
   ]
  },
  {
   "cell_type": "code",
   "execution_count": 3,
   "id": "c7bdea70",
   "metadata": {
    "deletable": false,
    "id": "2b757bca",
    "outputId": "15376089-8dad-46c9-b520-c05248d43158"
   },
   "outputs": [
    {
     "name": "stdout",
     "output_type": "stream",
     "text": [
      "<class 'pandas.core.frame.DataFrame'>\n",
      "RangeIndex: 21525 entries, 0 to 21524\n",
      "Data columns (total 12 columns):\n",
      " #   Column            Non-Null Count  Dtype  \n",
      "---  ------            --------------  -----  \n",
      " 0   children          21525 non-null  int64  \n",
      " 1   days_employed     19351 non-null  float64\n",
      " 2   dob_years         21525 non-null  int64  \n",
      " 3   education         21525 non-null  object \n",
      " 4   education_id      21525 non-null  int64  \n",
      " 5   family_status     21525 non-null  object \n",
      " 6   family_status_id  21525 non-null  int64  \n",
      " 7   gender            21525 non-null  object \n",
      " 8   income_type       21525 non-null  object \n",
      " 9   debt              21525 non-null  int64  \n",
      " 10  total_income      19351 non-null  float64\n",
      " 11  purpose           21525 non-null  object \n",
      "dtypes: float64(2), int64(5), object(5)\n",
      "memory usage: 2.0+ MB\n"
     ]
    }
   ],
   "source": [
    "data.info()"
   ]
  },
  {
   "cell_type": "markdown",
   "id": "cab17576",
   "metadata": {
    "deletable": false,
    "editable": false,
    "id": "333ec665"
   },
   "source": [
    "## Предобработка данных"
   ]
  },
  {
   "cell_type": "markdown",
   "id": "345d6d03",
   "metadata": {
    "deletable": false,
    "editable": false,
    "id": "02d92d53"
   },
   "source": [
    "### Удаление пропусков"
   ]
  },
  {
   "cell_type": "markdown",
   "id": "d2bb544c",
   "metadata": {
    "deletable": false,
    "editable": false,
    "id": "cd84967c"
   },
   "source": [
    "**Задание 4. Выведите количество пропущенных значений для каждого столбца. Используйте комбинацию двух методов.**"
   ]
  },
  {
   "cell_type": "code",
   "execution_count": 4,
   "id": "61605a12",
   "metadata": {
    "deletable": false,
    "id": "7f9b2309",
    "outputId": "81f4d817-781c-465c-ed15-91ce4446810d"
   },
   "outputs": [
    {
     "data": {
      "text/plain": [
       "children               0\n",
       "days_employed       2174\n",
       "dob_years              0\n",
       "education              0\n",
       "education_id           0\n",
       "family_status          0\n",
       "family_status_id       0\n",
       "gender                 0\n",
       "income_type            0\n",
       "debt                   0\n",
       "total_income        2174\n",
       "purpose                0\n",
       "dtype: int64"
      ]
     },
     "execution_count": 4,
     "metadata": {},
     "output_type": "execute_result"
    }
   ],
   "source": [
    "data.isna().sum()"
   ]
  },
  {
   "cell_type": "markdown",
   "id": "9e55e5b1",
   "metadata": {
    "deletable": false,
    "editable": false,
    "id": "db86e27b"
   },
   "source": [
    "**Задание 5. В двух столбцах есть пропущенные значения. Один из них — `days_employed`. Пропуски в этом столбце вы обработаете на следующем этапе. Другой столбец с пропущенными значениями — `total_income` — хранит данные о доходах. На сумму дохода сильнее всего влияет тип занятости, поэтому заполнить пропуски в этом столбце нужно медианным значением по каждому типу из столбца `income_type`. Например, у человека с типом занятости `сотрудник` пропуск в столбце `total_income` должен быть заполнен медианным доходом среди всех записей с тем же типом.**"
   ]
  },
  {
   "cell_type": "code",
   "execution_count": 5,
   "id": "e71633cc",
   "metadata": {
    "deletable": false,
    "id": "42006a93"
   },
   "outputs": [],
   "source": [
    "for t in data['income_type'].unique():\n",
    "    data.loc[(data['income_type'] == t) & (data['total_income'].isna()), 'total_income'] = \\\n",
    "    data.loc[(data['income_type'] == t), 'total_income'].median()"
   ]
  },
  {
   "cell_type": "markdown",
   "id": "5bd1241f",
   "metadata": {
    "deletable": false,
    "editable": false,
    "id": "89da5ece"
   },
   "source": [
    "### Обработка аномальных значений"
   ]
  },
  {
   "cell_type": "markdown",
   "id": "00c5a5d5",
   "metadata": {
    "deletable": false,
    "editable": false,
    "id": "57964554"
   },
   "source": [
    "**Задание 6. В данных могут встречаться артефакты (аномалии) — значения, которые не отражают действительность и появились по какой-то ошибке. таким артефактом будет отрицательное количество дней трудового стажа в столбце `days_employed`. Для реальных данных это нормально. Обработайте значения в этом столбце: замените все отрицательные значения положительными с помощью метода `abs()`.**"
   ]
  },
  {
   "cell_type": "code",
   "execution_count": 6,
   "id": "0c9e2128",
   "metadata": {
    "deletable": false,
    "id": "f6f055bf"
   },
   "outputs": [],
   "source": [
    "data['days_employed'] = data['days_employed'].abs()"
   ]
  },
  {
   "cell_type": "markdown",
   "id": "a9872c06",
   "metadata": {
    "deletable": false,
    "editable": false,
    "id": "6107dd2f"
   },
   "source": [
    "**Задание 7. Для каждого типа занятости выведите медианное значение трудового стажа `days_employed` в днях.**"
   ]
  },
  {
   "cell_type": "code",
   "execution_count": 7,
   "id": "c9eab334",
   "metadata": {
    "deletable": false,
    "id": "85a5faf6",
    "outputId": "801ef80e-522b-4668-f34e-565af7432bcf"
   },
   "outputs": [
    {
     "data": {
      "text/plain": [
       "income_type\n",
       "безработный        366413.652744\n",
       "в декрете            3296.759962\n",
       "госслужащий          2689.368353\n",
       "компаньон            1547.382223\n",
       "пенсионер          365213.306266\n",
       "предприниматель       520.848083\n",
       "сотрудник            1574.202821\n",
       "студент               578.751554\n",
       "Name: days_employed, dtype: float64"
      ]
     },
     "execution_count": 7,
     "metadata": {},
     "output_type": "execute_result"
    }
   ],
   "source": [
    "data.groupby('income_type')['days_employed'].agg('median')"
   ]
  },
  {
   "cell_type": "markdown",
   "id": "457e6baa",
   "metadata": {
    "deletable": false,
    "editable": false,
    "id": "38d1a030"
   },
   "source": [
    "У двух типов (безработные и пенсионеры) получатся аномально большие значения. Исправить такие значения сложно, поэтому оставьте их как есть. Тем более этот столбец не понадобится вам для исследования."
   ]
  },
  {
   "cell_type": "markdown",
   "id": "92cbc891",
   "metadata": {
    "deletable": false,
    "editable": false,
    "id": "d8a9f147"
   },
   "source": [
    "**Задание 8. Выведите перечень уникальных значений столбца `children`.**"
   ]
  },
  {
   "cell_type": "code",
   "execution_count": 8,
   "id": "78a18b78",
   "metadata": {
    "deletable": false,
    "id": "ef5056eb",
    "outputId": "6975b15c-7f95-4697-d16d-a0c79b657b03"
   },
   "outputs": [
    {
     "data": {
      "text/plain": [
       "array([ 1,  0,  3,  2, -1,  4, 20,  5])"
      ]
     },
     "execution_count": 8,
     "metadata": {},
     "output_type": "execute_result"
    }
   ],
   "source": [
    "data['children'].unique()"
   ]
  },
  {
   "cell_type": "markdown",
   "id": "a2ead62a",
   "metadata": {
    "deletable": false,
    "editable": false,
    "id": "40b9ebf2"
   },
   "source": [
    "**Задание 9. В столбце `children` есть два аномальных значения. Удалите строки, в которых встречаются такие аномальные значения из датафрейма `data`.**"
   ]
  },
  {
   "cell_type": "code",
   "execution_count": 9,
   "id": "92b9f442",
   "metadata": {
    "deletable": false,
    "id": "3ff9801d"
   },
   "outputs": [],
   "source": [
    "data = data[(data['children'] != -1) & (data['children'] != 20)]"
   ]
  },
  {
   "cell_type": "markdown",
   "id": "41c0adc4",
   "metadata": {
    "deletable": false,
    "editable": false,
    "id": "bbc4d0ce"
   },
   "source": [
    "**Задание 10. Ещё раз выведите перечень уникальных значений столбца `children`, чтобы убедиться, что артефакты удалены.**"
   ]
  },
  {
   "cell_type": "code",
   "execution_count": 10,
   "id": "c55c92c3",
   "metadata": {
    "deletable": false,
    "id": "ad4fa8b7",
    "outputId": "b2097101-d49d-44d9-901b-32a65c9463d1"
   },
   "outputs": [
    {
     "data": {
      "text/plain": [
       "array([1, 0, 3, 2, 4, 5])"
      ]
     },
     "execution_count": 10,
     "metadata": {},
     "output_type": "execute_result"
    }
   ],
   "source": [
    "data['children'].unique()"
   ]
  },
  {
   "cell_type": "markdown",
   "id": "eb9e0745",
   "metadata": {
    "deletable": false,
    "editable": false,
    "id": "75440b63"
   },
   "source": [
    "### Удаление пропусков (продолжение)"
   ]
  },
  {
   "cell_type": "markdown",
   "id": "0272e1a3",
   "metadata": {
    "deletable": false,
    "editable": false,
    "id": "f4ea573f"
   },
   "source": [
    "**Задание 11. Заполните пропуски в столбце `days_employed` медианными значениями по каждого типа занятости `income_type`.**"
   ]
  },
  {
   "cell_type": "code",
   "execution_count": 11,
   "id": "3a1cd877",
   "metadata": {
    "deletable": false,
    "id": "af6b1a7e"
   },
   "outputs": [],
   "source": [
    "for t in data['income_type'].unique():\n",
    "    data.loc[(data['income_type'] == t) & (data['days_employed'].isna()), 'days_employed'] = \\\n",
    "    data.loc[(data['income_type'] == t), 'days_employed'].median()"
   ]
  },
  {
   "cell_type": "markdown",
   "id": "5c32cd2f",
   "metadata": {
    "deletable": false,
    "editable": false,
    "id": "2753f40d"
   },
   "source": [
    "**Задание 12. Убедитесь, что все пропуски заполнены. Проверьте себя и ещё раз выведите количество пропущенных значений для каждого столбца с помощью двух методов.**"
   ]
  },
  {
   "cell_type": "code",
   "execution_count": 12,
   "id": "2d5e1c29",
   "metadata": {
    "deletable": false,
    "id": "55f78bc2",
    "outputId": "8da1e4e1-358e-4e87-98c9-f261bce0a7b2"
   },
   "outputs": [
    {
     "data": {
      "text/plain": [
       "children            0\n",
       "days_employed       0\n",
       "dob_years           0\n",
       "education           0\n",
       "education_id        0\n",
       "family_status       0\n",
       "family_status_id    0\n",
       "gender              0\n",
       "income_type         0\n",
       "debt                0\n",
       "total_income        0\n",
       "purpose             0\n",
       "dtype: int64"
      ]
     },
     "execution_count": 12,
     "metadata": {},
     "output_type": "execute_result"
    }
   ],
   "source": [
    "data.isna().sum()"
   ]
  },
  {
   "cell_type": "markdown",
   "id": "16244357",
   "metadata": {
    "deletable": false,
    "editable": false,
    "id": "ddc81e43"
   },
   "source": [
    "### Изменение типов данных"
   ]
  },
  {
   "cell_type": "markdown",
   "id": "011feccd",
   "metadata": {
    "deletable": false,
    "editable": false,
    "id": "42d19d24"
   },
   "source": [
    "**Задание 13. Замените вещественный тип данных в столбце `total_income` на целочисленный с помощью метода `astype()`.**"
   ]
  },
  {
   "cell_type": "code",
   "execution_count": 13,
   "id": "359e6715",
   "metadata": {
    "deletable": false,
    "id": "920b65ad"
   },
   "outputs": [],
   "source": [
    "data['total_income'] = data['total_income'].astype(int)"
   ]
  },
  {
   "cell_type": "markdown",
   "id": "33f37fe4",
   "metadata": {
    "deletable": false,
    "editable": false,
    "id": "80c420ba"
   },
   "source": [
    "### Обработка дубликатов"
   ]
  },
  {
   "cell_type": "markdown",
   "id": "6c561ff7",
   "metadata": {
    "deletable": false,
    "editable": false
   },
   "source": [
    "**Задание 14. Обработайте неявные дубликаты в столбце `education`. В этом столбце есть одни и те же значения, но записанные по-разному: с использованием заглавных и строчных букв. Приведите их к нижнему регистру. Проверьте остальные столбцы.**"
   ]
  },
  {
   "cell_type": "code",
   "execution_count": 14,
   "id": "74dd913a",
   "metadata": {
    "deletable": false
   },
   "outputs": [],
   "source": [
    "data['education'] = data['education'].str.lower()"
   ]
  },
  {
   "cell_type": "markdown",
   "id": "5c80f867",
   "metadata": {
    "deletable": false,
    "editable": false,
    "id": "dc587695"
   },
   "source": [
    "**Задание 15. Выведите на экран количество строк-дубликатов в данных. Если такие строки присутствуют, удалите их.**"
   ]
  },
  {
   "cell_type": "code",
   "execution_count": 15,
   "id": "6eea4fa2",
   "metadata": {
    "deletable": false,
    "id": "3ee445e4",
    "outputId": "9684deba-1934-42d1-99e1-cda61740f822"
   },
   "outputs": [
    {
     "data": {
      "text/plain": [
       "71"
      ]
     },
     "execution_count": 15,
     "metadata": {},
     "output_type": "execute_result"
    }
   ],
   "source": [
    "data.duplicated().sum()"
   ]
  },
  {
   "cell_type": "code",
   "execution_count": 16,
   "id": "8a380971",
   "metadata": {
    "deletable": false,
    "id": "8575fe05"
   },
   "outputs": [],
   "source": [
    "data = data.drop_duplicates()"
   ]
  },
  {
   "cell_type": "markdown",
   "id": "c1d3094a",
   "metadata": {
    "deletable": false,
    "editable": false,
    "id": "9904cf55"
   },
   "source": [
    "### Категоризация данных"
   ]
  },
  {
   "cell_type": "markdown",
   "id": "bbaabd48",
   "metadata": {
    "deletable": false,
    "editable": false,
    "id": "72fcc8a2"
   },
   "source": [
    "**Задание 16. На основании диапазонов, указанных ниже, создайте в датафрейме `data` столбец `total_income_category` с категориями:**\n",
    "\n",
    "- 0–30000 — `'E'`;\n",
    "- 30001–50000 — `'D'`;\n",
    "- 50001–200000 — `'C'`;\n",
    "- 200001–1000000 — `'B'`;\n",
    "- 1000001 и выше — `'A'`.\n",
    "\n",
    "\n",
    "**Например, кредитополучателю с доходом 25000 нужно назначить категорию `'E'`, а клиенту, получающему 235000, — `'B'`. Используйте собственную функцию с именем `categorize_income()` и метод `apply()`.**"
   ]
  },
  {
   "cell_type": "code",
   "execution_count": 17,
   "id": "52910f12",
   "metadata": {
    "deletable": false,
    "id": "e1771346"
   },
   "outputs": [],
   "source": [
    "def categorize_income(income):\n",
    "    try:\n",
    "        if 0 <= income <= 30000:\n",
    "            return 'E'\n",
    "        elif 30001 <= income <= 50000:\n",
    "            return 'D'\n",
    "        elif 50001 <= income <= 200000:\n",
    "            return 'C'\n",
    "        elif 200001 <= income <= 1000000:\n",
    "            return 'B'\n",
    "        elif income >= 1000001:\n",
    "            return 'A'\n",
    "    except:\n",
    "        pass"
   ]
  },
  {
   "cell_type": "code",
   "execution_count": 18,
   "id": "ca2c777c",
   "metadata": {
    "deletable": false,
    "id": "d5f3586d"
   },
   "outputs": [],
   "source": [
    "data['total_income_category'] = data['total_income'].apply(categorize_income)"
   ]
  },
  {
   "cell_type": "markdown",
   "id": "315230a6",
   "metadata": {
    "deletable": false,
    "editable": false,
    "id": "dde49b5c"
   },
   "source": [
    "**Задание 17. Выведите на экран перечень уникальных целей взятия кредита из столбца `purpose`.**"
   ]
  },
  {
   "cell_type": "code",
   "execution_count": 19,
   "id": "ae152879",
   "metadata": {
    "deletable": false,
    "id": "f67ce9b3",
    "outputId": "673c12d9-7d7e-4ae0-9812-c622c89dd244"
   },
   "outputs": [
    {
     "data": {
      "text/plain": [
       "array(['покупка жилья', 'приобретение автомобиля',\n",
       "       'дополнительное образование', 'сыграть свадьбу',\n",
       "       'операции с жильем', 'образование', 'на проведение свадьбы',\n",
       "       'покупка жилья для семьи', 'покупка недвижимости',\n",
       "       'покупка коммерческой недвижимости', 'покупка жилой недвижимости',\n",
       "       'строительство собственной недвижимости', 'недвижимость',\n",
       "       'строительство недвижимости', 'на покупку подержанного автомобиля',\n",
       "       'на покупку своего автомобиля',\n",
       "       'операции с коммерческой недвижимостью',\n",
       "       'строительство жилой недвижимости', 'жилье',\n",
       "       'операции со своей недвижимостью', 'автомобили',\n",
       "       'заняться образованием', 'сделка с подержанным автомобилем',\n",
       "       'получение образования', 'автомобиль', 'свадьба',\n",
       "       'получение дополнительного образования', 'покупка своего жилья',\n",
       "       'операции с недвижимостью', 'получение высшего образования',\n",
       "       'свой автомобиль', 'сделка с автомобилем',\n",
       "       'профильное образование', 'высшее образование',\n",
       "       'покупка жилья для сдачи', 'на покупку автомобиля', 'ремонт жилью',\n",
       "       'заняться высшим образованием'], dtype=object)"
      ]
     },
     "execution_count": 19,
     "metadata": {},
     "output_type": "execute_result"
    }
   ],
   "source": [
    "data['purpose'].unique()"
   ]
  },
  {
   "cell_type": "markdown",
   "id": "a74eb5c6",
   "metadata": {
    "deletable": false,
    "editable": false,
    "id": "85d0aef0"
   },
   "source": [
    "**Задание 18. Создайте функцию, которая на основании данных из столбца `purpose` сформирует новый столбец `purpose_category`, в который войдут следующие категории:**\n",
    "\n",
    "- `'операции с автомобилем'`,\n",
    "- `'операции с недвижимостью'`,\n",
    "- `'проведение свадьбы'`,\n",
    "- `'получение образования'`.\n",
    "\n",
    "**Например, если в столбце `purpose` находится подстрока `'на покупку автомобиля'`, то в столбце `purpose_category` должна появиться строка `'операции с автомобилем'`.**\n",
    "\n",
    "**Используйте собственную функцию с именем `categorize_purpose()` и метод `apply()`. Изучите данные в столбце `purpose` и определите, какие подстроки помогут вам правильно определить категорию.**"
   ]
  },
  {
   "cell_type": "code",
   "execution_count": 20,
   "id": "34dbe3eb",
   "metadata": {
    "deletable": false,
    "id": "e149fab4"
   },
   "outputs": [],
   "source": [
    "def categorize_purpose(row):\n",
    "    try:\n",
    "        if 'автом' in row:\n",
    "            return 'операции с автомобилем'\n",
    "        elif 'жил' in row or 'недвиж' in row:\n",
    "            return 'операции с недвижимостью'\n",
    "        elif 'свад' in row:\n",
    "            return 'проведение свадьбы'\n",
    "        elif 'образов' in row:\n",
    "            return 'получение образования'\n",
    "    except:\n",
    "        return 'нет категории'"
   ]
  },
  {
   "cell_type": "code",
   "execution_count": 21,
   "id": "f8e517de",
   "metadata": {
    "deletable": false,
    "id": "bf36e69b"
   },
   "outputs": [],
   "source": [
    "data['purpose_category'] = data['purpose'].apply(categorize_purpose)"
   ]
  },
  {
   "cell_type": "markdown",
   "id": "12549fa9",
   "metadata": {
    "deletable": false,
    "editable": false,
    "id": "09b242bf"
   },
   "source": [
    "### Шаг 3. Исследуйте данные и ответьте на вопросы"
   ]
  },
  {
   "cell_type": "markdown",
   "id": "1fedc494",
   "metadata": {
    "deletable": false,
    "editable": false,
    "id": "c5d66278"
   },
   "source": [
    "#### 3.1 Есть ли зависимость между количеством детей и возвратом кредита в срок?"
   ]
  },
  {
   "cell_type": "markdown",
   "id": "10bf2074",
   "metadata": {
    "deletable": false,
    "id": "2cacfc4a"
   },
   "source": [
    "Для выявления зависимости между количеством детей в семье и платежеспособностью клиента рассчитаем конверсию задолженности. Для этого найдем отношение клиентов, имеющих задолженность по возврату кредитов, к общему количеству клиентов в рамках каждой категории по количеству детей семье.\n"
   ]
  },
  {
   "cell_type": "markdown",
   "id": "b3e5c537",
   "metadata": {},
   "source": [
    "*Следующие обозначения будут использованы аналогичным образом для заданий 2.7.1 3.1 - 2.7.4  3.4.*\n",
    "\n",
    "**count** - общее количество клиентов\n",
    "\n",
    "**sum** - количество клиентов с задолженностью\n",
    "\n",
    "**conversion** - отношение sum / count, то есть доля клиентов с задолженностью по кредиту."
   ]
  },
  {
   "cell_type": "code",
   "execution_count": 22,
   "id": "ffe3b137",
   "metadata": {
    "scrolled": true
   },
   "outputs": [
    {
     "name": "stdout",
     "output_type": "stream",
     "text": [
      "           debt       conversion\n",
      "          count   sum           \n",
      "children                        \n",
      "0         14091  1063   0.075438\n",
      "1          4808   444   0.092346\n",
      "2          2052   194   0.094542\n",
      "3           330    27   0.081818\n",
      "4            41     4   0.097561\n",
      "5             9     0   0.000000\n"
     ]
    }
   ],
   "source": [
    "debt_grouped = data.groupby('children').agg({'debt':['count', 'sum']})\n",
    "debt_grouped['conversion'] = debt_grouped['debt']['sum']/debt_grouped['debt']['count']\n",
    "print(debt_grouped)"
   ]
  },
  {
   "cell_type": "markdown",
   "id": "1d96c474",
   "metadata": {},
   "source": [
    "<div class=\"alert alert-block alert-warning\">📝\n",
    "    \n",
    "\n",
    "__Комментарий от ревьюера №1__\n",
    "\n",
    "В единственной или последней строке ячейки кода Юпитера, метод print() не обязателен, в отличии от тренажера"
   ]
  },
  {
   "cell_type": "markdown",
   "id": "9ead9376",
   "metadata": {},
   "source": [
    "Видим, что конверсия должников в детьми в среднем колеблется в районе 8-9%, и корреляция не увеличивается существенно \n",
    "с увеличением количества детей в семье. В семьях с пятью детьми не наблюдается клиентов с задолженностями по кредиту, \n",
    "но и выборка в этой категории слишком маленькая для сравнения с другими. \n",
    "\n",
    "Следовательно, имеет смысл объединить категории с четырьями и пятью детьми в одну.\n",
    "Конверсия данной категории будет уже 4/50 = 0,08.\n",
    "\n",
    "В качестве эксперимента можно объединить и вовсе все многодетные семьи в одну, и доля должников будет 0.081579.\n"
   ]
  },
  {
   "cell_type": "markdown",
   "id": "d1166c1c",
   "metadata": {},
   "source": [
    "<div class=\"alert alert-block alert-success\">✔️\n",
    "    \n",
    "\n",
    "__Комментарий от ревьюера №1__\n",
    "\n",
    "Здорово, что посчитала колличество заемщиков в каждой выборке, и учла неравнозначность выборок. \n",
    "    \n"
   ]
  },
  {
   "cell_type": "code",
   "execution_count": 23,
   "id": "7dc6346a",
   "metadata": {},
   "outputs": [
    {
     "name": "stdout",
     "output_type": "stream",
     "text": [
      "                   debt       conversion\n",
      "                  count   sum           \n",
      "children_grouped                        \n",
      "0                 14091  1063   0.075438\n",
      "1                  4808   444   0.092346\n",
      "2                  2052   194   0.094542\n",
      "многодетные         380    31   0.081579\n"
     ]
    }
   ],
   "source": [
    "def categorize_children(children):\n",
    "    try:\n",
    "        if children == 0:\n",
    "            return 0\n",
    "        elif children == 1:\n",
    "            return 1\n",
    "        elif children == 2:\n",
    "            return 2\n",
    "        return 'многодетные'\n",
    "    except:\n",
    "        pass\n",
    "    \n",
    "data['children_grouped'] = data['children'].apply(categorize_children)\n",
    "\n",
    "debt_grouped_1 = data.groupby('children_grouped').agg({'debt':['count', 'sum']})\n",
    "debt_grouped_1['conversion'] = debt_grouped_1['debt']['sum']/debt_grouped_1['debt']['count']\n",
    "print(debt_grouped_1)"
   ]
  },
  {
   "cell_type": "markdown",
   "id": "6a40b411",
   "metadata": {
    "deletable": false,
    "id": "3a6b99ec"
   },
   "source": [
    "**Вывод:** "
   ]
  },
  {
   "cell_type": "markdown",
   "id": "4fd90feb",
   "metadata": {},
   "source": [
    "Таким образом, зависимость между количеством детей в семье и наличием задолженности по возврату кредита действительно наблюдается. Доля должников, не имеющих детей, составляет 7,5% (при самой большой доле наблюдений в выборке), что значительно ниже, чем у клиентов с детьми. В семьях с детьми эта конверсия растет до двух детей включительно до 9,45% , а в многодетных семьях падает до 8,16%."
   ]
  },
  {
   "cell_type": "markdown",
   "id": "e81e9b2e",
   "metadata": {},
   "source": []
  },
  {
   "cell_type": "markdown",
   "id": "f77faa92",
   "metadata": {},
   "source": []
  },
  {
   "cell_type": "markdown",
   "id": "f2a025d1",
   "metadata": {
    "deletable": false,
    "editable": false,
    "id": "97be82ca"
   },
   "source": [
    "#### 3.2 Есть ли зависимость между семейным положением и возвратом кредита в срок?"
   ]
  },
  {
   "cell_type": "markdown",
   "id": "575c7739",
   "metadata": {
    "deletable": false,
    "id": "dc3f7ee8"
   },
   "source": [
    "Проделаем аналогичную группировку возвратов кредитов по категориям семейного положения клиентов."
   ]
  },
  {
   "cell_type": "code",
   "execution_count": 24,
   "id": "84c38ff1",
   "metadata": {},
   "outputs": [
    {
     "name": "stdout",
     "output_type": "stream",
     "text": [
      "                        debt      conversion\n",
      "                       count  sum           \n",
      "family_status                               \n",
      "Не женат / не замужем   2796  273   0.097639\n",
      "в разводе               1189   84   0.070648\n",
      "вдовец / вдова           951   63   0.066246\n",
      "гражданский брак        4134  385   0.093130\n",
      "женат / замужем        12261  927   0.075606\n"
     ]
    }
   ],
   "source": [
    "debt_family_grouped = data.groupby('family_status').agg({'debt':['count', 'sum']})\n",
    "debt_family_grouped['conversion'] = debt_family_grouped['debt']['sum']/debt_family_grouped['debt']['count']\n",
    "print(debt_family_grouped)"
   ]
  },
  {
   "cell_type": "markdown",
   "id": "2036af9c",
   "metadata": {
    "deletable": false,
    "id": "1cef7837"
   },
   "source": [
    "**Вывод:** \n",
    "\n",
    "Наибольшая доля клиентов с задолженностью наблюдается среди неженатых/незамужних клиентов (9,76%), а также клиентов, находящихся в гражданском браке (9,31%). Наименьшая доля клиентов с задолженностью - среди вдовцов (6,62%) и разведённых (7,06%)."
   ]
  },
  {
   "cell_type": "markdown",
   "id": "9ce2464f",
   "metadata": {},
   "source": [
    "<div class=\"alert alert-block alert-success\">✔️\n",
    "    \n",
    "\n",
    "__Комментарий от ревьюера №1__\n",
    "\n",
    "Верно. по расчетам можно сказать, что заемщики которые состоят или состояли в браке лучше оплачивают кредиты.\n",
    "</div>"
   ]
  },
  {
   "cell_type": "markdown",
   "id": "b853637d",
   "metadata": {
    "deletable": false,
    "editable": false,
    "id": "1e8b2fca"
   },
   "source": [
    "#### 3.3 Есть ли зависимость между уровнем дохода и возвратом кредита в срок?"
   ]
  },
  {
   "cell_type": "markdown",
   "id": "919ab090",
   "metadata": {
    "deletable": false,
    "id": "cd7e3720"
   },
   "source": [
    "Для того, чтобы оценить влияние дохода на статистику возврата кредита, используем ранее созданный столбец total_income_category, разбивающий данные о ежемесячном доходе на следующие категории:\n",
    "\n",
    "0–30000 — 'E';\n",
    "\n",
    "30001–50000 — 'D';\n",
    "\n",
    "50001–200000 — 'C';\n",
    "\n",
    "200001–1000000 — 'B';\n",
    "\n",
    "1000001 и выше — 'A'."
   ]
  },
  {
   "cell_type": "code",
   "execution_count": 25,
   "id": "b78904a5",
   "metadata": {},
   "outputs": [
    {
     "name": "stdout",
     "output_type": "stream",
     "text": [
      "                        debt       conversion\n",
      "                       count   sum           \n",
      "total_income_category                        \n",
      "A                         25     2   0.080000\n",
      "B                       5014   354   0.070602\n",
      "C                      15921  1353   0.084982\n",
      "D                        349    21   0.060172\n",
      "E                         22     2   0.090909\n"
     ]
    }
   ],
   "source": [
    "debt_income_grouped = data.groupby('total_income_category').agg({'debt':['count', 'sum']})\n",
    "debt_income_grouped['conversion'] = debt_income_grouped['debt']['sum']/debt_income_grouped['debt']['count']\n",
    "print(debt_income_grouped)"
   ]
  },
  {
   "cell_type": "markdown",
   "id": "57573dce",
   "metadata": {},
   "source": [
    "В связи с малым количеством наблюдений по категориям A и E имет смысл объединить их с ближайшими категориями."
   ]
  },
  {
   "cell_type": "code",
   "execution_count": 26,
   "id": "14619302",
   "metadata": {},
   "outputs": [
    {
     "name": "stdout",
     "output_type": "stream",
     "text": [
      "                          debt       conversion\n",
      "                         count   sum           \n",
      "total_income_category_1                        \n",
      "A, B                      5039   356   0.070649\n",
      "C                        15921  1353   0.084982\n",
      "D, E                       371    23   0.061995\n"
     ]
    }
   ],
   "source": [
    "def categorize_income_1(income):\n",
    "    try:\n",
    "        if income == 'A' or income == 'B':\n",
    "            return 'A, B'\n",
    "        elif income == 'C':\n",
    "            return 'C'\n",
    "        return 'D, E'\n",
    "    except:\n",
    "        pass\n",
    "    \n",
    "data['total_income_category_1'] = data['total_income_category'].apply(categorize_income_1)\n",
    "\n",
    "debt_income_grouped_1 = data.groupby('total_income_category_1').agg({'debt':['count', 'sum']})\n",
    "debt_income_grouped_1['conversion'] = debt_income_grouped_1['debt']['sum']/debt_income_grouped_1['debt']['count']\n",
    "print(debt_income_grouped_1)"
   ]
  },
  {
   "cell_type": "markdown",
   "id": "c6fc6987",
   "metadata": {
    "deletable": false,
    "id": "e8593def"
   },
   "source": [
    "**Вывод:** \n",
    "\n",
    "Некоторая зависимость между ежемесячным доходом и кредитной задолженностью тоже наблюдается, но нелинейная.\n",
    "\n",
    "Наименьшая доля должников по кредиту наблюдается у клиентов с доходом до 50 000. Эти категории не так многочисленно представлены в нашей выборке - можно предположить, что клиенты с более низким доходом менее склонны к прибеганию к кредитам и более осторожны и ответственны в планировании выплат.\n",
    "\n",
    "Наибольшая доля должников - среди клиентов с достатком от 50 001 до 200 000. У клиентов с доходом от 201 000 наблюдается уровень задолженности, более близкий к среднему по всей выборке нашего исследования."
   ]
  },
  {
   "cell_type": "markdown",
   "id": "43b85c04",
   "metadata": {},
   "source": [
    "<div class=\"alert alert-block alert-success\">✔️\n",
    "    \n",
    "\n",
    "__Комментарий от ревьюера №1__\n",
    "\n",
    "Всё верно, тут лучше сравнить две-три самые многочисленные категории\n",
    "</div>"
   ]
  },
  {
   "cell_type": "markdown",
   "id": "a80c6036",
   "metadata": {
    "deletable": false,
    "editable": false,
    "id": "99ecbd1f"
   },
   "source": [
    "#### 3.4 Как разные цели кредита влияют на его возврат в срок?"
   ]
  },
  {
   "cell_type": "markdown",
   "id": "d04078f6",
   "metadata": {
    "deletable": false,
    "id": "2b687290"
   },
   "source": [
    "Для того, чтобы оценить взаимосвязь между целью кредита и его своевременным возвратом, посчитаем подобным образом долю  клиентов с задолженностью по кредиту по каждой категории цели кредита."
   ]
  },
  {
   "cell_type": "code",
   "execution_count": 27,
   "id": "e99b73ed",
   "metadata": {},
   "outputs": [
    {
     "name": "stdout",
     "output_type": "stream",
     "text": [
      "                           debt      conversion\n",
      "                          count  sum           \n",
      "purpose_category                               \n",
      "операции с автомобилем     4279  400   0.093480\n",
      "операции с недвижимостью  10751  780   0.072551\n",
      "получение образования      3988  369   0.092528\n",
      "проведение свадьбы         2313  183   0.079118\n"
     ]
    }
   ],
   "source": [
    "debt_purpose_grouped = data.groupby('purpose_category').agg({'debt':['count', 'sum']})\n",
    "debt_purpose_grouped['conversion'] = debt_purpose_grouped['debt']['sum']/debt_purpose_grouped['debt']['count']\n",
    "print(debt_purpose_grouped)"
   ]
  },
  {
   "cell_type": "markdown",
   "id": "355c578c",
   "metadata": {
    "deletable": false,
    "id": "b4bb2ce6"
   },
   "source": [
    "**Вывод:** \n",
    "\n",
    "В нашей выборке наблюдается зависимость между целями кредита и способностью клиента вернуть его в срок.\n",
    "\n",
    "Наименьшая доля задолженности по возврату кредита наблюдается среди кредитов для операций с недвижимостью (7,25%) и для проведения свадьбы (7,91%).Доля клиентов с задолженностями по кредиту на операции с автомобилем и образованием существенно выше - 9,35% и 9,25% соответственно.\n"
   ]
  },
  {
   "cell_type": "markdown",
   "id": "56471baa",
   "metadata": {},
   "source": [
    "<div class=\"alert alert-block alert-success\">✔️\n",
    "    \n",
    "\n",
    "__Комментарий от ревьюера №1__\n",
    "\n",
    "Да, по расчетам можно сделать вывод, что самыми проблемными выглядят автокредиты и кредиты на образование.\n",
    "</div>"
   ]
  },
  {
   "cell_type": "markdown",
   "id": "bbcb16cf",
   "metadata": {
    "deletable": false,
    "editable": false,
    "id": "09c3ac4c"
   },
   "source": [
    "#### 3.5 Приведите возможные причины появления пропусков в исходных данных."
   ]
  },
  {
   "cell_type": "markdown",
   "id": "5284496d",
   "metadata": {
    "deletable": false,
    "id": "9da2ceda"
   },
   "source": [
    "*Ответ:* Пропуски данных могут быть вызваны человеческим фактором, опечаткой, некорректной загрузкой, невозможостью добыть информацию в конкретном наблюдении или сокрытием персональных данных."
   ]
  },
  {
   "cell_type": "markdown",
   "id": "3f864530",
   "metadata": {},
   "source": [
    "<div class=\"alert alert-block alert-success\">✔️\n",
    "    \n",
    "\n",
    "__Комментарий от ревьюера №1__\n",
    "\n",
    "Совершенно верно, человеческий фактор (кто-то что-то не ввел, умышленно или нет) также может стать причиной пропусков в данных.\n",
    "</div>"
   ]
  },
  {
   "cell_type": "markdown",
   "id": "0e955dca",
   "metadata": {},
   "source": []
  },
  {
   "cell_type": "markdown",
   "id": "92482843",
   "metadata": {
    "deletable": false,
    "editable": false,
    "id": "7b0487d6"
   },
   "source": [
    "#### 3.6 Объясните, почему заполнить пропуски медианным значением — лучшее решение для количественных переменных."
   ]
  },
  {
   "cell_type": "markdown",
   "id": "3576d0b1",
   "metadata": {
    "deletable": false,
    "id": "7ecf2b8e"
   },
   "source": [
    "*Ответ:* \n",
    "Среднее арифметическое подвергается влиянию выдающихся значений (выбросов в выборке) и искажает реальную картину, поэтому для количественных данных медиана предоставляет более объективную информацию."
   ]
  },
  {
   "cell_type": "markdown",
   "id": "0f98083a",
   "metadata": {},
   "source": [
    "<div class=\"alert alert-block alert-success\">✔️\n",
    "    \n",
    "\n",
    "__Комментарий от ревьюера №1__\n",
    "\n",
    "Верно, медиана менее чувствительна к выбросам в данных.\n",
    "</div>"
   ]
  },
  {
   "cell_type": "markdown",
   "id": "2dd84e3a",
   "metadata": {},
   "source": []
  },
  {
   "cell_type": "markdown",
   "id": "6aa70770",
   "metadata": {
    "deletable": false,
    "editable": false,
    "id": "6db5255a"
   },
   "source": [
    "### Шаг 4: общий вывод."
   ]
  },
  {
   "cell_type": "markdown",
   "id": "742a1dce",
   "metadata": {
    "deletable": false,
    "id": "bad65432"
   },
   "source": [
    "В данном исследовании проводилась работа по преобработке данных (работе с пропусками, дубликатами и категоризация некоторых параметров) и выявлению зависимостью между переменными и своевременным возвратом долга по кредиту."
   ]
  },
  {
   "cell_type": "markdown",
   "id": "6b030f93",
   "metadata": {},
   "source": [
    "Наибольшие доли должников наблюдаются среди клиентов с двумя детьми (9,45%), неженатыми/незамужними (9,76%), с ежемесячным доходом от 50 001 до 200 000 (8,5%) и для операций с автомобилем (9,35%)."
   ]
  },
  {
   "cell_type": "markdown",
   "id": "893a2532",
   "metadata": {},
   "source": [
    "Наименьшие доли должников - среди клиентов без детей (7,54%), вдов/вдовцов (6,62%), с доходом до 50 000 (6,2%) и для операций с недвижимостью (7,25%)."
   ]
  },
  {
   "cell_type": "markdown",
   "id": "5ed93307",
   "metadata": {},
   "source": [
    "<div class=\"alert alert-block alert-success\">✔️\n",
    "    \n",
    "\n",
    "__Комментарий от ревьюера №1__\n",
    "\n",
    "Отличный вывод. Так держать!)"
   ]
  },
  {
   "cell_type": "markdown",
   "id": "b9db03a2",
   "metadata": {},
   "source": []
  },
  {
   "cell_type": "markdown",
   "id": "0ac08974",
   "metadata": {},
   "source": [
    "<div style=\"border:solid blue 3px; padding: 20px\">\n",
    "<div class=\"alert alert-block alert-success\">✔️\n",
    "    \n",
    "\n",
    "__Коментарий от ревьюера №1__\n",
    "    \n",
    "С моей стороны критических замечаний нету, если возникнут вопросы - то можешь     их передать через куратора. Проект принимаю\n",
    "    \n",
    "---    \n",
    "\n",
    "\n",
    "Всё чудно😊. Твой проект так и просится на github =)   \n",
    "    \n",
    "Поздравляю с успешным завершением проекта 😊👍\n",
    "И желаю успехов в новых работах 😊"
   ]
  },
  {
   "cell_type": "markdown",
   "id": "5222b0fd",
   "metadata": {},
   "source": [
    "<div class=\"alert alert-info\"> <b>Спасибо большое за обратную связь, Александр! Очень воодушевляет 😊</b> </div>\n",
    "    "
   ]
  }
 ],
 "metadata": {
  "ExecuteTimeLog": [
   {
    "duration": 50,
    "start_time": "2025-01-09T19:16:50.210Z"
   },
   {
    "duration": 509,
    "start_time": "2025-01-09T19:17:04.811Z"
   },
   {
    "duration": 77,
    "start_time": "2025-01-09T19:17:06.889Z"
   },
   {
    "duration": 75,
    "start_time": "2025-01-09T19:17:08.067Z"
   },
   {
    "duration": 23,
    "start_time": "2025-01-09T19:17:09.328Z"
   },
   {
    "duration": 15,
    "start_time": "2025-01-09T19:17:10.270Z"
   },
   {
    "duration": 11,
    "start_time": "2025-01-09T19:17:11.734Z"
   },
   {
    "duration": 36,
    "start_time": "2025-01-09T19:17:12.565Z"
   },
   {
    "duration": 3,
    "start_time": "2025-01-09T19:17:13.839Z"
   },
   {
    "duration": 8,
    "start_time": "2025-01-09T19:17:14.626Z"
   },
   {
    "duration": 4,
    "start_time": "2025-01-09T19:17:15.906Z"
   },
   {
    "duration": 6,
    "start_time": "2025-01-09T19:17:17.245Z"
   },
   {
    "duration": 5,
    "start_time": "2025-01-09T19:17:18.123Z"
   },
   {
    "duration": 36,
    "start_time": "2025-01-09T19:17:18.237Z"
   },
   {
    "duration": 11,
    "start_time": "2025-01-09T19:17:18.294Z"
   },
   {
    "duration": 4,
    "start_time": "2025-01-09T19:17:18.424Z"
   },
   {
    "duration": 12,
    "start_time": "2025-01-09T19:17:18.455Z"
   },
   {
    "duration": 21,
    "start_time": "2025-01-09T19:17:18.505Z"
   },
   {
    "duration": 18,
    "start_time": "2025-01-09T19:17:18.588Z"
   },
   {
    "duration": 3,
    "start_time": "2025-01-09T19:17:18.967Z"
   },
   {
    "duration": 11,
    "start_time": "2025-01-09T19:17:19.369Z"
   },
   {
    "duration": 6,
    "start_time": "2025-01-09T19:17:19.454Z"
   },
   {
    "duration": 3,
    "start_time": "2025-01-09T19:17:19.515Z"
   },
   {
    "duration": 9,
    "start_time": "2025-01-09T19:17:19.566Z"
   },
   {
    "duration": 5,
    "start_time": "2025-01-09T19:17:19.617Z"
   },
   {
    "duration": 3,
    "start_time": "2025-01-09T19:17:19.825Z"
   },
   {
    "duration": 3,
    "start_time": "2025-01-09T19:17:19.941Z"
   },
   {
    "duration": 3,
    "start_time": "2025-01-09T19:17:20.032Z"
   },
   {
    "duration": 5,
    "start_time": "2025-01-09T19:20:32.395Z"
   },
   {
    "duration": 9,
    "start_time": "2025-01-09T19:25:42.055Z"
   },
   {
    "duration": 8,
    "start_time": "2025-01-09T19:25:53.867Z"
   },
   {
    "duration": 36,
    "start_time": "2025-01-09T19:27:18.702Z"
   },
   {
    "duration": 12,
    "start_time": "2025-01-09T19:27:28.393Z"
   },
   {
    "duration": 12,
    "start_time": "2025-01-09T19:30:17.691Z"
   },
   {
    "duration": 13,
    "start_time": "2025-01-09T19:30:30.925Z"
   },
   {
    "duration": 10,
    "start_time": "2025-01-09T19:30:41.061Z"
   },
   {
    "duration": 19,
    "start_time": "2025-01-09T19:31:16.311Z"
   },
   {
    "duration": 16,
    "start_time": "2025-01-09T19:31:28.927Z"
   },
   {
    "duration": 8,
    "start_time": "2025-01-09T19:34:13.840Z"
   },
   {
    "duration": 9,
    "start_time": "2025-01-09T19:34:30.522Z"
   },
   {
    "duration": 19,
    "start_time": "2025-01-09T19:34:38.317Z"
   },
   {
    "duration": 10,
    "start_time": "2025-01-09T19:34:44.307Z"
   },
   {
    "duration": 20,
    "start_time": "2025-01-09T19:35:50.637Z"
   },
   {
    "duration": 18,
    "start_time": "2025-01-09T19:36:02.768Z"
   },
   {
    "duration": 12,
    "start_time": "2025-01-09T19:36:51.615Z"
   },
   {
    "duration": 18,
    "start_time": "2025-01-09T19:37:31.156Z"
   },
   {
    "duration": 16,
    "start_time": "2025-01-09T19:39:21.430Z"
   },
   {
    "duration": 16,
    "start_time": "2025-01-09T19:41:46.757Z"
   },
   {
    "duration": 8,
    "start_time": "2025-01-09T19:41:51.869Z"
   },
   {
    "duration": 13,
    "start_time": "2025-01-09T19:43:08.322Z"
   },
   {
    "duration": 11,
    "start_time": "2025-01-09T19:43:18.953Z"
   },
   {
    "duration": 10,
    "start_time": "2025-01-09T19:55:21.892Z"
   },
   {
    "duration": 3,
    "start_time": "2025-01-09T20:09:57.505Z"
   },
   {
    "duration": 75,
    "start_time": "2025-01-09T20:24:25.595Z"
   },
   {
    "duration": 10,
    "start_time": "2025-01-09T20:24:35.404Z"
   },
   {
    "duration": 17,
    "start_time": "2025-01-09T20:26:06.851Z"
   },
   {
    "duration": 16,
    "start_time": "2025-01-09T20:26:34.823Z"
   },
   {
    "duration": 11,
    "start_time": "2025-01-09T20:27:32.189Z"
   },
   {
    "duration": 3,
    "start_time": "2025-01-09T20:27:33.484Z"
   },
   {
    "duration": 17,
    "start_time": "2025-01-09T20:27:37.303Z"
   },
   {
    "duration": 12,
    "start_time": "2025-01-09T20:27:54.926Z"
   },
   {
    "duration": 2,
    "start_time": "2025-01-09T20:28:22.900Z"
   },
   {
    "duration": 11,
    "start_time": "2025-01-09T20:28:41.535Z"
   },
   {
    "duration": 16,
    "start_time": "2025-01-09T20:29:16.938Z"
   },
   {
    "duration": 14,
    "start_time": "2025-01-09T20:36:57.600Z"
   },
   {
    "duration": 12,
    "start_time": "2025-01-09T20:37:17.141Z"
   },
   {
    "duration": 16,
    "start_time": "2025-01-09T20:42:11.650Z"
   },
   {
    "duration": 12,
    "start_time": "2025-01-09T20:42:46.175Z"
   },
   {
    "duration": 13,
    "start_time": "2025-01-09T20:45:02.972Z"
   },
   {
    "duration": 12,
    "start_time": "2025-01-09T20:45:24.675Z"
   },
   {
    "duration": 570,
    "start_time": "2025-01-10T15:26:39.142Z"
   },
   {
    "duration": 22,
    "start_time": "2025-01-10T15:26:39.714Z"
   },
   {
    "duration": 15,
    "start_time": "2025-01-10T15:26:39.738Z"
   },
   {
    "duration": 11,
    "start_time": "2025-01-10T15:26:39.846Z"
   },
   {
    "duration": 73,
    "start_time": "2025-01-10T15:26:39.910Z"
   },
   {
    "duration": 4,
    "start_time": "2025-01-10T15:26:39.992Z"
   },
   {
    "duration": 8,
    "start_time": "2025-01-10T15:26:40.062Z"
   },
   {
    "duration": 4,
    "start_time": "2025-01-10T15:26:40.159Z"
   },
   {
    "duration": 7,
    "start_time": "2025-01-10T15:26:40.210Z"
   },
   {
    "duration": 5,
    "start_time": "2025-01-10T15:26:40.272Z"
   },
   {
    "duration": 37,
    "start_time": "2025-01-10T15:26:40.354Z"
   },
   {
    "duration": 11,
    "start_time": "2025-01-10T15:26:40.412Z"
   },
   {
    "duration": 4,
    "start_time": "2025-01-10T15:26:40.502Z"
   },
   {
    "duration": 12,
    "start_time": "2025-01-10T15:26:40.595Z"
   },
   {
    "duration": 21,
    "start_time": "2025-01-10T15:26:40.662Z"
   },
   {
    "duration": 18,
    "start_time": "2025-01-10T15:26:40.700Z"
   },
   {
    "duration": 3,
    "start_time": "2025-01-10T15:26:40.791Z"
   },
   {
    "duration": 11,
    "start_time": "2025-01-10T15:26:40.811Z"
   },
   {
    "duration": 6,
    "start_time": "2025-01-10T15:26:40.879Z"
   },
   {
    "duration": 3,
    "start_time": "2025-01-10T15:26:40.940Z"
   },
   {
    "duration": 9,
    "start_time": "2025-01-10T15:26:40.964Z"
   },
   {
    "duration": 13,
    "start_time": "2025-01-10T15:26:41.077Z"
   },
   {
    "duration": 17,
    "start_time": "2025-01-10T15:26:41.135Z"
   },
   {
    "duration": 3,
    "start_time": "2025-01-10T15:26:41.257Z"
   },
   {
    "duration": 13,
    "start_time": "2025-01-10T15:26:41.284Z"
   },
   {
    "duration": 3,
    "start_time": "2025-01-10T15:26:41.449Z"
   },
   {
    "duration": 13,
    "start_time": "2025-01-10T15:26:41.480Z"
   },
   {
    "duration": 3,
    "start_time": "2025-01-10T15:26:41.614Z"
   },
   {
    "duration": 13,
    "start_time": "2025-01-10T15:26:41.695Z"
   },
   {
    "duration": 12,
    "start_time": "2025-01-10T15:53:12.741Z"
   },
   {
    "duration": 27,
    "start_time": "2025-01-10T18:30:53.806Z"
   },
   {
    "duration": 16,
    "start_time": "2025-01-10T18:31:21.459Z"
   },
   {
    "duration": 95,
    "start_time": "2025-01-10T18:32:03.535Z"
   },
   {
    "duration": 17,
    "start_time": "2025-01-10T18:32:14.674Z"
   },
   {
    "duration": 116,
    "start_time": "2025-01-10T18:32:30.314Z"
   },
   {
    "duration": 15,
    "start_time": "2025-01-10T18:32:37.687Z"
   },
   {
    "duration": 17,
    "start_time": "2025-01-10T18:33:22.909Z"
   },
   {
    "duration": 17,
    "start_time": "2025-01-10T18:34:33.913Z"
   },
   {
    "duration": 996,
    "start_time": "2025-01-11T09:58:25.530Z"
   },
   {
    "duration": 39,
    "start_time": "2025-01-11T09:58:26.829Z"
   },
   {
    "duration": 20,
    "start_time": "2025-01-11T09:58:26.870Z"
   },
   {
    "duration": 12,
    "start_time": "2025-01-11T09:58:26.892Z"
   },
   {
    "duration": 76,
    "start_time": "2025-01-11T09:58:26.907Z"
   },
   {
    "duration": 4,
    "start_time": "2025-01-11T09:58:26.986Z"
   },
   {
    "duration": 17,
    "start_time": "2025-01-11T09:58:26.992Z"
   },
   {
    "duration": 5,
    "start_time": "2025-01-11T09:58:27.011Z"
   },
   {
    "duration": 20,
    "start_time": "2025-01-11T09:58:27.018Z"
   },
   {
    "duration": 21,
    "start_time": "2025-01-11T09:58:27.040Z"
   },
   {
    "duration": 43,
    "start_time": "2025-01-11T09:58:27.065Z"
   },
   {
    "duration": 12,
    "start_time": "2025-01-11T09:58:27.110Z"
   },
   {
    "duration": 7,
    "start_time": "2025-01-11T09:58:27.124Z"
   },
   {
    "duration": 15,
    "start_time": "2025-01-11T09:58:27.160Z"
   },
   {
    "duration": 29,
    "start_time": "2025-01-11T09:58:27.177Z"
   },
   {
    "duration": 20,
    "start_time": "2025-01-11T09:58:27.208Z"
   },
   {
    "duration": 4,
    "start_time": "2025-01-11T09:58:27.230Z"
   },
   {
    "duration": 35,
    "start_time": "2025-01-11T09:58:27.236Z"
   },
   {
    "duration": 7,
    "start_time": "2025-01-11T09:58:27.273Z"
   },
   {
    "duration": 5,
    "start_time": "2025-01-11T09:58:27.282Z"
   },
   {
    "duration": 12,
    "start_time": "2025-01-11T09:58:27.289Z"
   },
   {
    "duration": 58,
    "start_time": "2025-01-11T09:58:27.303Z"
   },
   {
    "duration": 21,
    "start_time": "2025-01-11T09:58:27.363Z"
   },
   {
    "duration": 14,
    "start_time": "2025-01-11T09:58:27.386Z"
   },
   {
    "duration": 15,
    "start_time": "2025-01-11T09:58:27.402Z"
   },
   {
    "duration": 52,
    "start_time": "2025-01-11T09:58:27.420Z"
   },
   {
    "duration": 15,
    "start_time": "2025-01-11T09:58:27.475Z"
   },
   {
    "duration": 73,
    "start_time": "2025-01-11T10:48:01.656Z"
   },
   {
    "duration": 119,
    "start_time": "2025-01-11T10:48:14.314Z"
   }
  ],
  "colab": {
   "name": "dpp_template_part2.ipynb",
   "provenance": []
  },
  "kernelspec": {
   "display_name": "Python 3 (ipykernel)",
   "language": "python",
   "name": "python3"
  },
  "language_info": {
   "codemirror_mode": {
    "name": "ipython",
    "version": 3
   },
   "file_extension": ".py",
   "mimetype": "text/x-python",
   "name": "python",
   "nbconvert_exporter": "python",
   "pygments_lexer": "ipython3",
   "version": "3.9.5"
  },
  "toc": {
   "base_numbering": 1,
   "nav_menu": {},
   "number_sections": true,
   "sideBar": true,
   "skip_h1_title": true,
   "title_cell": "Table of Contents",
   "title_sidebar": "Contents",
   "toc_cell": false,
   "toc_position": {},
   "toc_section_display": true,
   "toc_window_display": true
  }
 },
 "nbformat": 4,
 "nbformat_minor": 5
}
